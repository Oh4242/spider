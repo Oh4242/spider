{
 "cells": [
  {
   "cell_type": "code",
   "execution_count": null,
   "id": "8fe1bc81-080e-494e-a860-60b35f86297c",
   "metadata": {},
   "outputs": [],
   "source": [
    "import numpy as np\n",
    "from sklearn.datasets import load_iris\n",
    "import matplotlib.pyplot as plt"
   ]
  },
  {
   "cell_type": "code",
   "execution_count": null,
   "id": "b14178f0-4be5-4503-b580-cdc9adce6500",
   "metadata": {},
   "outputs": [],
   "source": [
    "#定义Kmean类\n",
    "class Kmeans:\n",
    "    #取默认值：接收聚类数clusters和最大迭代次数num\n",
    "    def __init__(self,clusters=3,num=100):\n",
    "        self.clusters=clusters\n",
    "        self.num=num\n",
    "\n",
    "    #计算欧几里得距离的方法，用于衡量两个样本点之间的距离\n",
    "    def distance(self,x1,x2):\n",
    "        return np.sqrt(np.sum(x1-x2)**2))\n",
    "\n",
    "    #训练Kmeans模型的方法\n",
    "    def fit(self,X):\n",
    "        # 随机从数据集中选择clusters个样本点作为初始质心\n",
    "        self.centroids=X[np.random.choice(X.shape[0],self.clusters,replace=False)]\n",
    "        for _ in range(self.num):\n",
    "            # 保存上一轮的质心位置，用于判断是否收敛\n",
    "            pre_cen=self.centroids.copy()\n",
    "            labels=[]  # 用于存储每个样本点所属的簇标签\n",
    "            for x in X:\n",
    "                distances=[self.distance(x,cen) for cen in self.centroids]\n",
    "                label=np.argmin(distances) # 找到距离最近的质心的索引\n",
    "                labels.append(label)\n",
    "            # 将标签列表转换为numpy数组\n",
    "            labels=np.array(labels)\n",
    "\n",
    "            # 更新质心位置\n",
    "            for i in range(self.clusters):\n",
    "                # 计算属于第i个簇的所有样本点的均值，作为新的质心\n",
    "                self.centroids[i]=np.mean(X[labels==i],axis=0)\n",
    "    \n",
    "            # 判断当前质心与上一轮质心是否足够接近（即是否收敛）\n",
    "            if np.allclose(self.centroids,pre_cen):\n",
    "                break\n",
    "    \n",
    "        return labels\n",
    "\n",
    "#加载iris数据集\n",
    "iris=load_iris()\n",
    "# 获取数据集中的特征数据\n",
    "X = iris.data\n",
    "\n",
    "#绘制聚类前的散点图\n",
    "plt.figure(figsize=(10,5))\n",
    "plt.subplot(1,2,1)\n",
    "plt.scatter(X[:, 0], X[:, 1], c='b', label='Before Clustering')\n",
    "plt.title('Before Clustering')\n",
    "plt.xlabel('Length')\n",
    "plt.ylabel('Width')\n",
    "plt.show()\n",
    "\n",
    "# 实例化Kmeans类，设置聚类数为3\n",
    "kmeans = Kmeans(clusters=3)\n",
    "# 调用fit方法对数据进行聚类，得到预测的簇标签\n",
    "predicted_labels = kmeans.fit(X)\n",
    "\n",
    "# 绘制聚类后的散点图\n",
    "plt.subplot(1, 2, 2)\n",
    "plt.scatter(X[:, 0], X[:, 1], c=predicted_labels, cmap='viridis', label='After Clustering')\n",
    "plt.scatter(kmeans.centroids[:, 0], kmeans.centroids[:, 1], marker='X', s=200, c='red', label='Centroids')\n",
    "plt.title('After Clustering')\n",
    "plt.xlabel('Length')\n",
    "plt.ylabel('Width')\n",
    "\n",
    "plt.tight_layout()\n",
    "plt.show()"
   ]
  },
  {
   "cell_type": "code",
   "execution_count": 3,
   "id": "908528b6-9d86-4004-8766-4e227327144c",
   "metadata": {},
   "outputs": [
    {
     "ename": "NameError",
     "evalue": "name 'plt' is not defined",
     "output_type": "error",
     "traceback": [
      "\u001b[1;31m---------------------------------------------------------------------------\u001b[0m",
      "\u001b[1;31mNameError\u001b[0m                                 Traceback (most recent call last)",
      "Cell \u001b[1;32mIn[3], line 2\u001b[0m\n\u001b[0;32m      1\u001b[0m \u001b[38;5;66;03m# 绘制聚类后的散点图\u001b[39;00m\n\u001b[1;32m----> 2\u001b[0m plt\u001b[38;5;241m.\u001b[39msubplot(\u001b[38;5;241m1\u001b[39m, \u001b[38;5;241m2\u001b[39m, \u001b[38;5;241m2\u001b[39m)\n\u001b[0;32m      3\u001b[0m plt\u001b[38;5;241m.\u001b[39mscatter(X[:, \u001b[38;5;241m0\u001b[39m], X[:, \u001b[38;5;241m1\u001b[39m], c\u001b[38;5;241m=\u001b[39mpredicted_labels, cmap\u001b[38;5;241m=\u001b[39m\u001b[38;5;124m'\u001b[39m\u001b[38;5;124mviridis\u001b[39m\u001b[38;5;124m'\u001b[39m, label\u001b[38;5;241m=\u001b[39m\u001b[38;5;124m'\u001b[39m\u001b[38;5;124mAfter Clustering\u001b[39m\u001b[38;5;124m'\u001b[39m)\n\u001b[0;32m      4\u001b[0m plt\u001b[38;5;241m.\u001b[39mscatter(kmeans\u001b[38;5;241m.\u001b[39mcentroids[:, \u001b[38;5;241m0\u001b[39m], kmeans\u001b[38;5;241m.\u001b[39mcentroids[:, \u001b[38;5;241m1\u001b[39m], marker\u001b[38;5;241m=\u001b[39m\u001b[38;5;124m'\u001b[39m\u001b[38;5;124mX\u001b[39m\u001b[38;5;124m'\u001b[39m, s\u001b[38;5;241m=\u001b[39m\u001b[38;5;241m200\u001b[39m, c\u001b[38;5;241m=\u001b[39m\u001b[38;5;124m'\u001b[39m\u001b[38;5;124mred\u001b[39m\u001b[38;5;124m'\u001b[39m, label\u001b[38;5;241m=\u001b[39m\u001b[38;5;124m'\u001b[39m\u001b[38;5;124mCentroids\u001b[39m\u001b[38;5;124m'\u001b[39m)\n",
      "\u001b[1;31mNameError\u001b[0m: name 'plt' is not defined"
     ]
    }
   ],
   "source": [
    "# 绘制聚类后的散点图\n",
    "plt.subplot(1, 2, 2)\n",
    "plt.scatter(X[:, 0], X[:, 1], c=predicted_labels, cmap='viridis', label='After Clustering')\n",
    "plt.scatter(kmeans.centroids[:, 0], kmeans.centroids[:, 1], marker='X', s=200, c='red', label='Centroids')\n",
    "plt.title('After Clustering')\n",
    "plt.xlabel('Length')\n",
    "plt.ylabel('Width')\n",
    "\n",
    "plt.tight_layout()\n",
    "plt.show()"
   ]
  },
  {
   "cell_type": "code",
   "execution_count": null,
   "id": "064c6098-b912-4494-9bbe-2a5f0354508e",
   "metadata": {},
   "outputs": [],
   "source": []
  }
 ],
 "metadata": {
  "kernelspec": {
   "display_name": "Python 3 (ipykernel)",
   "language": "python",
   "name": "python3"
  },
  "language_info": {
   "codemirror_mode": {
    "name": "ipython",
    "version": 3
   },
   "file_extension": ".py",
   "mimetype": "text/x-python",
   "name": "python",
   "nbconvert_exporter": "python",
   "pygments_lexer": "ipython3",
   "version": "3.11.7"
  }
 },
 "nbformat": 4,
 "nbformat_minor": 5
}
